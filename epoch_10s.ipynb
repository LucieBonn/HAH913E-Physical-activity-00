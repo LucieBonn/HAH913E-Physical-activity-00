{
 "cells": [
  {
   "cell_type": "markdown",
   "id": "70b97d28",
   "metadata": {},
   "source": [
    "[GitHub repository](https://github.com/LucieBonn/HAH913E-Physical-activity-00)\n",
    "\n",
    "Who worked on this project? Lucie Bonnot"
   ]
  },
  {
   "cell_type": "markdown",
   "id": "da72ec9c",
   "metadata": {},
   "source": [
    "# Introduction\n",
    "\n",
    "This notebook deals with the integration of ENMO (Euclidean Norm Minus One) over time intervals (epochs) of 10s, 30s, and 60s from raw accelerometer data. The goal is to visualize physical activity captured by an Axivity AX3 sensor worn on the non-dominant wrist."
   ]
  },
  {
   "cell_type": "markdown",
   "id": "9dce1486",
   "metadata": {},
   "source": [
    "# Dataset\n",
    "\n",
    "The CSV file `0_z.csv` contains accelerometer data in the following format:\n",
    "\n",
    "1. The first line is a comment: `# accelerometer data in g`.  \n",
    "2. The second line contains the column headers: `t, x, y, z`.  \n",
    "3. The remaining lines contain the data values, separated by commas.  \n",
    "\n",
    "We skip the first line and let pandas use the second line as the header.  \n",
    "This way, the data is loaded directly into four columns: `t`, `x`, `y`, and `z`, ready for further processing."
   ]
  },
  {
   "cell_type": "code",
   "execution_count": 19,
   "id": "67099f41",
   "metadata": {},
   "outputs": [],
   "source": [
    "import pandas as pd\n",
    "import numpy as np\n",
    "import matplotlib.pyplot as plt"
   ]
  },
  {
   "cell_type": "code",
   "execution_count": 20,
   "id": "5d221676",
   "metadata": {},
   "outputs": [
    {
     "name": "stdout",
     "output_type": "stream",
     "text": [
      "c:\\Users\\lucie\\Documents\\GitHub\\MAM2ADMM-Series00-Git-LucieBonn\\MAM2ADMM-Series00-Git-LucieBonn\\MAM2ADMM-Series00-Git-LucieBonn\\HAH913E-Physical-activity-00\n"
     ]
    }
   ],
   "source": [
    "import os\n",
    "print(os.getcwd())"
   ]
  },
  {
   "cell_type": "code",
   "execution_count": 21,
   "id": "35110b98",
   "metadata": {},
   "outputs": [
    {
     "data": {
      "text/html": [
       "<div>\n",
       "<style scoped>\n",
       "    .dataframe tbody tr th:only-of-type {\n",
       "        vertical-align: middle;\n",
       "    }\n",
       "\n",
       "    .dataframe tbody tr th {\n",
       "        vertical-align: top;\n",
       "    }\n",
       "\n",
       "    .dataframe thead th {\n",
       "        text-align: right;\n",
       "    }\n",
       "</style>\n",
       "<table border=\"1\" class=\"dataframe\">\n",
       "  <thead>\n",
       "    <tr style=\"text-align: right;\">\n",
       "      <th></th>\n",
       "      <th>t</th>\n",
       "      <th>x</th>\n",
       "      <th>y</th>\n",
       "      <th>z</th>\n",
       "    </tr>\n",
       "  </thead>\n",
       "  <tbody>\n",
       "    <tr>\n",
       "      <th>0</th>\n",
       "      <td>0.00</td>\n",
       "      <td>-0.0938</td>\n",
       "      <td>-0.0156</td>\n",
       "      <td>0.9531</td>\n",
       "    </tr>\n",
       "    <tr>\n",
       "      <th>1</th>\n",
       "      <td>0.02</td>\n",
       "      <td>-0.0938</td>\n",
       "      <td>-0.0156</td>\n",
       "      <td>0.9531</td>\n",
       "    </tr>\n",
       "    <tr>\n",
       "      <th>2</th>\n",
       "      <td>0.04</td>\n",
       "      <td>-0.0938</td>\n",
       "      <td>-0.0156</td>\n",
       "      <td>0.9531</td>\n",
       "    </tr>\n",
       "    <tr>\n",
       "      <th>3</th>\n",
       "      <td>0.06</td>\n",
       "      <td>-0.0938</td>\n",
       "      <td>-0.0156</td>\n",
       "      <td>0.9531</td>\n",
       "    </tr>\n",
       "    <tr>\n",
       "      <th>4</th>\n",
       "      <td>0.08</td>\n",
       "      <td>-0.0938</td>\n",
       "      <td>-0.0156</td>\n",
       "      <td>0.9531</td>\n",
       "    </tr>\n",
       "  </tbody>\n",
       "</table>\n",
       "</div>"
      ],
      "text/plain": [
       "      t       x       y       z\n",
       "0  0.00 -0.0938 -0.0156  0.9531\n",
       "1  0.02 -0.0938 -0.0156  0.9531\n",
       "2  0.04 -0.0938 -0.0156  0.9531\n",
       "3  0.06 -0.0938 -0.0156  0.9531\n",
       "4  0.08 -0.0938 -0.0156  0.9531"
      ]
     },
     "execution_count": 21,
     "metadata": {},
     "output_type": "execute_result"
    }
   ],
   "source": [
    "def load_data():\n",
    "    df = pd.read_csv('0_z.csv', skiprows=1)  # skip comment line\n",
    "    return df\n",
    "\n",
    "df = load_data()\n",
    "df.head()"
   ]
  },
  {
   "cell_type": "markdown",
   "id": "bd9610d5",
   "metadata": {},
   "source": [
    "## Objective\n",
    "\n",
    "Generate two visualizations:  \n",
    "1. A bar plot of the ENMO integrated over varied epochs.  \n",
    "2. A line plot of the raw ENMO over time."
   ]
  },
  {
   "cell_type": "markdown",
   "id": "c67da406",
   "metadata": {},
   "source": [
    "# What is ENMO?\n",
    "\n",
    "ENMO is calculated as the Euclidean norm of the x, y, z acceleration components minus 1g (Earth’s gravity). Negative values are set to zero because they do not represent physical activity."
   ]
  },
  {
   "cell_type": "code",
   "execution_count": 22,
   "id": "6946e12a",
   "metadata": {},
   "outputs": [
    {
     "data": {
      "text/html": [
       "<div>\n",
       "<style scoped>\n",
       "    .dataframe tbody tr th:only-of-type {\n",
       "        vertical-align: middle;\n",
       "    }\n",
       "\n",
       "    .dataframe tbody tr th {\n",
       "        vertical-align: top;\n",
       "    }\n",
       "\n",
       "    .dataframe thead th {\n",
       "        text-align: right;\n",
       "    }\n",
       "</style>\n",
       "<table border=\"1\" class=\"dataframe\">\n",
       "  <thead>\n",
       "    <tr style=\"text-align: right;\">\n",
       "      <th></th>\n",
       "      <th>t</th>\n",
       "      <th>x</th>\n",
       "      <th>y</th>\n",
       "      <th>z</th>\n",
       "      <th>enmo</th>\n",
       "    </tr>\n",
       "  </thead>\n",
       "  <tbody>\n",
       "    <tr>\n",
       "      <th>0</th>\n",
       "      <td>0.00</td>\n",
       "      <td>-0.0938</td>\n",
       "      <td>-0.0156</td>\n",
       "      <td>0.9531</td>\n",
       "      <td>0.0</td>\n",
       "    </tr>\n",
       "    <tr>\n",
       "      <th>1</th>\n",
       "      <td>0.02</td>\n",
       "      <td>-0.0938</td>\n",
       "      <td>-0.0156</td>\n",
       "      <td>0.9531</td>\n",
       "      <td>0.0</td>\n",
       "    </tr>\n",
       "    <tr>\n",
       "      <th>2</th>\n",
       "      <td>0.04</td>\n",
       "      <td>-0.0938</td>\n",
       "      <td>-0.0156</td>\n",
       "      <td>0.9531</td>\n",
       "      <td>0.0</td>\n",
       "    </tr>\n",
       "    <tr>\n",
       "      <th>3</th>\n",
       "      <td>0.06</td>\n",
       "      <td>-0.0938</td>\n",
       "      <td>-0.0156</td>\n",
       "      <td>0.9531</td>\n",
       "      <td>0.0</td>\n",
       "    </tr>\n",
       "    <tr>\n",
       "      <th>4</th>\n",
       "      <td>0.08</td>\n",
       "      <td>-0.0938</td>\n",
       "      <td>-0.0156</td>\n",
       "      <td>0.9531</td>\n",
       "      <td>0.0</td>\n",
       "    </tr>\n",
       "  </tbody>\n",
       "</table>\n",
       "</div>"
      ],
      "text/plain": [
       "      t       x       y       z  enmo\n",
       "0  0.00 -0.0938 -0.0156  0.9531   0.0\n",
       "1  0.02 -0.0938 -0.0156  0.9531   0.0\n",
       "2  0.04 -0.0938 -0.0156  0.9531   0.0\n",
       "3  0.06 -0.0938 -0.0156  0.9531   0.0\n",
       "4  0.08 -0.0938 -0.0156  0.9531   0.0"
      ]
     },
     "execution_count": 22,
     "metadata": {},
     "output_type": "execute_result"
    }
   ],
   "source": [
    "def compute_enmo(df):\n",
    "    norm = np.sqrt(df['x']**2 + df['y']**2 + df['z']**2)\n",
    "    df['enmo'] = np.maximum(norm - 1, 0)\n",
    "    return df\n",
    "\n",
    "df = compute_enmo(df)\n",
    "df.head()"
   ]
  },
  {
   "cell_type": "markdown",
   "id": "6baf9e73",
   "metadata": {},
   "source": [
    "Previously, Copilot suggested a formula that set negative ENMO values to zero. However, I prefer to keep these negative values to observe small fluctuations around 1g when the sensor is mostly stationary. This provides a more accurate view of very light or nearly static movements."
   ]
  },
  {
   "cell_type": "code",
   "execution_count": 23,
   "id": "e9523107",
   "metadata": {},
   "outputs": [
    {
     "data": {
      "text/html": [
       "<div>\n",
       "<style scoped>\n",
       "    .dataframe tbody tr th:only-of-type {\n",
       "        vertical-align: middle;\n",
       "    }\n",
       "\n",
       "    .dataframe tbody tr th {\n",
       "        vertical-align: top;\n",
       "    }\n",
       "\n",
       "    .dataframe thead th {\n",
       "        text-align: right;\n",
       "    }\n",
       "</style>\n",
       "<table border=\"1\" class=\"dataframe\">\n",
       "  <thead>\n",
       "    <tr style=\"text-align: right;\">\n",
       "      <th></th>\n",
       "      <th>t</th>\n",
       "      <th>x</th>\n",
       "      <th>y</th>\n",
       "      <th>z</th>\n",
       "      <th>enmo</th>\n",
       "    </tr>\n",
       "  </thead>\n",
       "  <tbody>\n",
       "    <tr>\n",
       "      <th>0</th>\n",
       "      <td>0.00</td>\n",
       "      <td>-0.0938</td>\n",
       "      <td>-0.0156</td>\n",
       "      <td>0.9531</td>\n",
       "      <td>-0.042168</td>\n",
       "    </tr>\n",
       "    <tr>\n",
       "      <th>1</th>\n",
       "      <td>0.02</td>\n",
       "      <td>-0.0938</td>\n",
       "      <td>-0.0156</td>\n",
       "      <td>0.9531</td>\n",
       "      <td>-0.042168</td>\n",
       "    </tr>\n",
       "    <tr>\n",
       "      <th>2</th>\n",
       "      <td>0.04</td>\n",
       "      <td>-0.0938</td>\n",
       "      <td>-0.0156</td>\n",
       "      <td>0.9531</td>\n",
       "      <td>-0.042168</td>\n",
       "    </tr>\n",
       "    <tr>\n",
       "      <th>3</th>\n",
       "      <td>0.06</td>\n",
       "      <td>-0.0938</td>\n",
       "      <td>-0.0156</td>\n",
       "      <td>0.9531</td>\n",
       "      <td>-0.042168</td>\n",
       "    </tr>\n",
       "    <tr>\n",
       "      <th>4</th>\n",
       "      <td>0.08</td>\n",
       "      <td>-0.0938</td>\n",
       "      <td>-0.0156</td>\n",
       "      <td>0.9531</td>\n",
       "      <td>-0.042168</td>\n",
       "    </tr>\n",
       "  </tbody>\n",
       "</table>\n",
       "</div>"
      ],
      "text/plain": [
       "      t       x       y       z      enmo\n",
       "0  0.00 -0.0938 -0.0156  0.9531 -0.042168\n",
       "1  0.02 -0.0938 -0.0156  0.9531 -0.042168\n",
       "2  0.04 -0.0938 -0.0156  0.9531 -0.042168\n",
       "3  0.06 -0.0938 -0.0156  0.9531 -0.042168\n",
       "4  0.08 -0.0938 -0.0156  0.9531 -0.042168"
      ]
     },
     "execution_count": 23,
     "metadata": {},
     "output_type": "execute_result"
    }
   ],
   "source": [
    "def compute_enmo(df):\n",
    "    norm = np.sqrt(df['x']**2 + df['y']**2 + df['z']**2)\n",
    "    df['enmo'] = norm - 1  # keep negative values\n",
    "    return df\n",
    "df = compute_enmo(df)\n",
    "df.head()"
   ]
  },
  {
   "cell_type": "markdown",
   "id": "f052ee4f",
   "metadata": {},
   "source": [
    "## Integrated ENMO over Epochs\n",
    "\n",
    "I group the ENMO values into epochs of a chosen length and calculate the mean.  \n",
    "I then display a bar plot to visualize the intensity of physical activity."
   ]
  },
  {
   "cell_type": "code",
   "execution_count": 24,
   "id": "3613bf72",
   "metadata": {},
   "outputs": [],
   "source": [
    "def aggregate_enmo(df, epoch_length):\n",
    "    df['epoch'] = (df['t'] // epoch_length).astype(int)\n",
    "    aggregated = df.groupby('epoch')['enmo'].mean().reset_index()\n",
    "    aggregated['time'] = aggregated['epoch'] * epoch_length / 60  # convert to minutes\n",
    "    return aggregated"
   ]
  },
  {
   "cell_type": "markdown",
   "id": "6f0d7880",
   "metadata": {},
   "source": [
    "The formula suggested by Copilot did not yield the same values as those obtained by my professor. Therefore, I chose to use a summation approach to perform actual integration."
   ]
  },
  {
   "cell_type": "code",
   "execution_count": 25,
   "id": "1d5282be",
   "metadata": {},
   "outputs": [],
   "source": [
    "def aggregate_enmo_gmin(df, epoch_length):\n",
    "    df['epoch'] = (df['t'] // epoch_length).astype(int)\n",
    "    aggregated = df.groupby('epoch')['enmo'].sum().reset_index()\n",
    "    aggregated['enmo_gmin'] = aggregated['enmo'] * (epoch_length / 60)  # correct factor\n",
    "    aggregated['time_min'] = aggregated['epoch'] * epoch_length / 60\n",
    "    return aggregated"
   ]
  },
  {
   "cell_type": "markdown",
   "id": "ac35a367",
   "metadata": {},
   "source": [
    "## Combined Visualization for 10-Second Epochs\n",
    "\n",
    "We display two plots in a single figure:  \n",
    "1. A bar plot of the average ENMO per 10-second epoch  \n",
    "2. A line plot of the raw ENMO over time  \n",
    "\n",
    "This allows us to identify both sustained activity and short bursts."
   ]
  },
  {
   "cell_type": "code",
   "execution_count": 26,
   "id": "48218be1",
   "metadata": {},
   "outputs": [],
   "source": [
    "aggregated_10s = aggregate_enmo_gmin(df, epoch_length=10)"
   ]
  },
  {
   "cell_type": "code",
   "execution_count": 27,
   "id": "0d9e3b72",
   "metadata": {},
   "outputs": [
    {
     "data": {
      "image/png": "[encoded data removed]",
      "text/plain": [
       "<Figure size 1200x800 with 2 Axes>"
      ]
     },
     "metadata": {},
     "output_type": "display_data"
    }
   ],
   "source": [
    "df['time_min'] = df['t'] / 60  # convert seconds to minutes\n",
    "fig, axs = plt.subplots(2, 1, figsize=(12, 8))\n",
    "\n",
    "# Bar plot: ENMO aggregated\n",
    "axs[0].bar(aggregated_10s['time_min'], aggregated_10s['enmo_gmin'], width=0.15, color='steelblue')\n",
    "axs[0].set_title('ENMO integrated over 10.0 s intervals')\n",
    "axs[0].set_ylabel('Integrated ENMO (g·min)')\n",
    "axs[0].set_xlabel('Time (minutes)')\n",
    "axs[0].axhline(0, color='black', linewidth=0.8)\n",
    "\n",
    "# Line plot: raw ENMO\n",
    "axs[1].plot(df['time_min'], df['enmo'], color='darkorange')\n",
    "axs[1].set_title('Raw ENMO over Time')\n",
    "axs[1].set_xlabel('Time (minutes)')\n",
    "axs[1].set_ylabel('ENMO (g)')\n",
    "axs[1].axhline(0, color='black', linewidth=0.8)\n",
    "\n",
    "plt.tight_layout()\n",
    "plt.savefig('enmo_epoch_10s.png')\n",
    "plt.show()\n"
   ]
  }
 ],
 "metadata": {
  "kernelspec": {
   "display_name": "base",
   "language": "python",
   "name": "python3"
  },
  "language_info": {
   "codemirror_mode": {
    "name": "ipython",
    "version": 3
   },
   "file_extension": ".py",
   "mimetype": "text/x-python",
   "name": "python",
   "nbconvert_exporter": "python",
   "pygments_lexer": "ipython3",
   "version": "3.12.4"
  }
 },
 "nbformat": 4,
 "nbformat_minor": 5
}
